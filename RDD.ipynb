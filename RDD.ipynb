{
 "cells": [
  {
   "cell_type": "code",
   "execution_count": 1,
   "metadata": {},
   "outputs": [
    {
     "data": {
      "text/plain": [
       "Intitializing Scala interpreter ..."
      ]
     },
     "metadata": {},
     "output_type": "display_data"
    },
    {
     "data": {
      "text/plain": [
       "Spark Web UI available at http://10.0.2.15:4040\n",
       "SparkContext available as 'sc' (version = 2.3.0, master = local[*], app id = local-1540396357487)\n",
       "SparkSession available as 'spark'\n"
      ]
     },
     "metadata": {},
     "output_type": "display_data"
    },
    {
     "data": {
      "text/plain": [
       "import org.apache.spark.SparkConf\n",
       "import org.apache.spark.SparkContext\n",
       "import org.apache.spark.rdd.RDD\n"
      ]
     },
     "execution_count": 1,
     "metadata": {},
     "output_type": "execute_result"
    }
   ],
   "source": [
    "import org.apache.spark.SparkConf\n",
    "import org.apache.spark.SparkContext\n",
    "import org.apache.spark.rdd.RDD"
   ]
  },
  {
   "cell_type": "code",
   "execution_count": 2,
   "metadata": {},
   "outputs": [
    {
     "data": {
      "text/plain": [
       "res0: Array[(String, String)] = Array((spark.eventLog.enabled,true), (spark.executor.id,driver), (spark.driver.host,10.0.2.15), (spark.app.name,spylon-kernel), (spark.repl.class.outputDir,/tmp/tmpm0urot7l), (spark.repl.class.uri,spark://10.0.2.15:33669/classes), (spark.app.id,local-1540396357487), (spark.rdd.compress,True), (spark.eventLog.dir,/var/log/ipnb), (spark.serializer.objectStreamReset,100), (spark.master,local[*]), (spark.submit.deployMode,client), (spark.driver.port,33669), (spark.ui.showConsoleProgress,true))\n"
      ]
     },
     "execution_count": 2,
     "metadata": {},
     "output_type": "execute_result"
    }
   ],
   "source": [
    "sc.getConf.getAll;"
   ]
  },
  {
   "cell_type": "code",
   "execution_count": 4,
   "metadata": {},
   "outputs": [
    {
     "data": {
      "text/plain": [
       "cadenas: Array[String] = Array(openwebinars, spark, bigdata, openwebinars)\n"
      ]
     },
     "execution_count": 4,
     "metadata": {},
     "output_type": "execute_result"
    }
   ],
   "source": [
    "val cadenas = Array(\"openwebinars\",\"spark\",\"bigdata\",\"openwebinars\")"
   ]
  },
  {
   "cell_type": "code",
   "execution_count": 8,
   "metadata": {},
   "outputs": [
    {
     "data": {
      "text/plain": [
       "cadenasRDD: org.apache.spark.rdd.RDD[String] = ParallelCollectionRDD[1] at parallelize at <console>:30\n"
      ]
     },
     "execution_count": 8,
     "metadata": {},
     "output_type": "execute_result"
    }
   ],
   "source": [
    "val cadenasRDD = sc.parallelize(cadenas,3)"
   ]
  },
  {
   "cell_type": "code",
   "execution_count": 7,
   "metadata": {},
   "outputs": [
    {
     "data": {
      "text/plain": [
       "res1: Array[String] = Array(openwebinars, spark, bigdata, openwebinars)\n"
      ]
     },
     "execution_count": 7,
     "metadata": {},
     "output_type": "execute_result"
    }
   ],
   "source": [
    "cadenasRDD.collect()"
   ]
  },
  {
   "cell_type": "code",
   "execution_count": 14,
   "metadata": {},
   "outputs": [
    {
     "data": {
      "text/plain": [
       "cadenasMayusculas: org.apache.spark.rdd.RDD[String] = MapPartitionsRDD[5] at map at <console>:36\n",
       "res6: Array[String] = Array(OPENWEBINARS, SPARK, BIGDATA, OPENWEBINARS)\n"
      ]
     },
     "execution_count": 14,
     "metadata": {},
     "output_type": "execute_result"
    }
   ],
   "source": [
    "//Transformaciones y acciones\n",
    "//Funcion map\n",
    "val cadenasMayusculas = cadenasRDD.map(palabra=> palabra.toUpperCase())\n",
    "cadenasMayusculas.collect()"
   ]
  },
  {
   "cell_type": "code",
   "execution_count": 13,
   "metadata": {},
   "outputs": [
    {
     "data": {
      "text/plain": [
       "data: org.apache.spark.rdd.RDD[String] = MapPartitionsRDD[4] at filter at <console>:36\n",
       "res5: Array[String] = Array(BIGDATA)\n"
      ]
     },
     "execution_count": 13,
     "metadata": {},
     "output_type": "execute_result"
    }
   ],
   "source": [
    "//Funcion filter\n",
    "val data = cadenasMayusculas.filter(data=> data.contains(\"DATA\"))\n",
    "data.collect()"
   ]
  },
  {
   "cell_type": "code",
   "execution_count": 17,
   "metadata": {},
   "outputs": [
    {
     "data": {
      "text/plain": [
       "mayusLength: org.apache.spark.rdd.RDD[Any] = MapPartitionsRDD[6] at flatMap at <console>:33\n",
       "res9: Array[Any] = Array(OPENWEBINARS, 12, SPARK, 5, BIGDATA, 7, OPENWEBINARS, 12)\n"
      ]
     },
     "execution_count": 17,
     "metadata": {},
     "output_type": "execute_result"
    }
   ],
   "source": [
    "//Funcion flaMap\n",
    "var mayusLength = cadenasRDD.flatMap(p => List(p.toUpperCase(),p.length))\n",
    "mayusLength.collect()"
   ]
  },
  {
   "cell_type": "code",
   "execution_count": 18,
   "metadata": {},
   "outputs": [
    {
     "data": {
      "text/plain": [
       "cadenasBoth: Array[String] = Array(openwebinars, spark, bigdata, openwebinars, OPENWEBINARS, SPARK, BIGDATA, OPENWEBINARS)\n"
      ]
     },
     "execution_count": 18,
     "metadata": {},
     "output_type": "execute_result"
    }
   ],
   "source": [
    "//Funcion union\n",
    "var cadenasBoth = cadenasRDD.union(cadenasMayusculas).collect()"
   ]
  },
  {
   "cell_type": "code",
   "execution_count": null,
   "metadata": {},
   "outputs": [],
   "source": []
  }
 ],
 "metadata": {
  "kernelspec": {
   "display_name": "Scala 2.11 (SPylon)",
   "language": "scala",
   "name": "spylon-kernel"
  },
  "language_info": {
   "codemirror_mode": "text/x-scala",
   "file_extension": ".scala",
   "help_links": [
    {
     "text": "MetaKernel Magics",
     "url": "https://github.com/calysto/metakernel/blob/master/metakernel/magics/README.md"
    }
   ],
   "mimetype": "text/x-scala",
   "name": "scala",
   "pygments_lexer": "scala",
   "version": "0.4.1"
  }
 },
 "nbformat": 4,
 "nbformat_minor": 2
}
